{
 "cells": [
  {
   "cell_type": "code",
   "execution_count": 1,
   "id": "4c908c60-69bf-480a-aa82-81890de83f1a",
   "metadata": {
    "ExecuteTime": {
     "end_time": "2023-12-21T10:03:44.510523Z",
     "start_time": "2023-12-21T10:03:42.563914Z"
    },
    "tags": []
   },
   "outputs": [],
   "source": [
    "import pandas as pd\n",
    "import numpy as np\n",
    "import matplotlib.pyplot as plt\n",
    "import seaborn as sns\n",
    "sns.set(rc={'figure.figsize':(15,8)})\n",
    "from datetime import datetime, timedelta\n",
    "import re\n",
    "import json\n",
    "import spacy\n",
    "import string\n",
    "\n",
    "from scipy.stats import ttest_ind\n",
    "import statsmodels.formula.api as smf\n",
    "\n",
    "# Local Modules\n",
    "import matplotlib as mpl\n",
    "import matplotlib.font_manager as font_manager\n",
    "from matplotlib.lines import Line2D\n",
    "\n",
    "\n",
    "# Granger test between GTrends views and tweets\n",
    "import statsmodels.api as sm"
   ]
  },
  {
   "cell_type": "markdown",
   "id": "26643336-45e8-42bf-b107-4daf8af0c204",
   "metadata": {},
   "source": [
    "## Data parsing"
   ]
  },
  {
   "cell_type": "code",
   "execution_count": 2,
   "id": "18caebd6-8758-40a5-b275-81d7af38652f",
   "metadata": {
    "ExecuteTime": {
     "start_time": "2023-12-21T10:03:42.585468Z"
    }
   },
   "outputs": [
    {
     "name": "stderr",
     "output_type": "stream",
     "text": [
      "/var/folders/g4/t17nc9bs2zqcfjn9vq_f93b80000gn/T/ipykernel_77312/2738739506.py:3: FutureWarning: The argument 'date_parser' is deprecated and will be removed in a future version. Please use 'date_format' instead, or read your data in as 'object' dtype and then call 'to_datetime'.\n",
      "  df = pd.read_csv('../data/tweets.csv', parse_dates=['date'], date_parser=custom_date)\n"
     ]
    }
   ],
   "source": [
    "# build a personalyze data parser\n",
    "custom_date = lambda x: datetime.strptime(x.split()[0], '%Y-%m-%d')\n",
    "df = pd.read_csv('../data/tweets.csv', parse_dates=['date'], date_parser=custom_date)"
   ]
  },
  {
   "cell_type": "code",
   "execution_count": 3,
   "id": "40ac7377-32db-40be-95c7-27532551896f",
   "metadata": {
    "ExecuteTime": {
     "start_time": "2023-12-21T10:03:42.588270Z"
    }
   },
   "outputs": [],
   "source": [
    "df_covid = df[df['date'] >= '2019-12-01']"
   ]
  },
  {
   "cell_type": "code",
   "execution_count": 4,
   "id": "17b5a655-2247-4120-9d85-f6149fed271c",
   "metadata": {
    "ExecuteTime": {
     "start_time": "2023-12-21T10:03:42.590946Z"
    }
   },
   "outputs": [],
   "source": [
    "time_span = pd.date_range(start = min(df_covid['date']), end = max(df_covid['date']), freq='D')\n",
    "\n",
    "data=df_covid.copy()\n",
    "data = pd.merge(data, pd.DataFrame(time_span, columns=['date']), on='date', how='right')\n",
    "data.dropna(inplace=True)"
   ]
  },
  {
   "cell_type": "raw",
   "id": "588ac7a2-1e66-49ca-a0f7-712e390907d3",
   "metadata": {},
   "source": [
    "data.dropna(inplace=True)\n",
    "\n",
    "data = data.drop(data[data.isRetweet == 't'].index)\n",
    "data"
   ]
  },
  {
   "cell_type": "code",
   "execution_count": 5,
   "id": "a8f670d2-0f9a-4c14-bd67-ce0c508419ac",
   "metadata": {
    "ExecuteTime": {
     "start_time": "2023-12-21T10:03:42.593479Z"
    }
   },
   "outputs": [
    {
     "name": "stdout",
     "output_type": "stream",
     "text": [
      "Number of stop words: 326\n"
     ]
    }
   ],
   "source": [
    "nlp = spacy.load('en_core_web_sm')\n",
    "spacy_stopwords = spacy.lang.en.stop_words.STOP_WORDS\n",
    "print('Number of stop words: %d' % len(spacy_stopwords))"
   ]
  },
  {
   "cell_type": "code",
   "execution_count": null,
   "id": "f46330a1-8068-46b6-978e-d044b659ccc0",
   "metadata": {
    "ExecuteTime": {
     "start_time": "2023-12-21T10:03:42.596547Z"
    }
   },
   "outputs": [],
   "source": [
    "#all tweets in one string\n",
    "result_text = ' '.join(data['text'])\n",
    "\n",
    "def remove_stopwords(chunk):\n",
    "    return ' '.join([token.text for token in chunk if (not token.is_stop)])\n",
    "\n",
    "#the text we have is too big to process it at once, so we split it into chunks\n",
    "chunk_size = 100000\n",
    "chunks = [result_text[i:i+chunk_size] for i in range(0, len(result_text), chunk_size)]\n",
    "processed_chunks = [nlp(chunk) for chunk in chunks]\n",
    "processed_chunks_no_stopwords = [remove_stopwords(chunk) for chunk in processed_chunks]\n",
    "\n",
    "#manually clean text from links, punctuation, etc.\n",
    "clean = ' '.join(processed_chunks_no_stopwords)\n",
    "clean= re.sub(r'\\w+:\\/{2}[\\d\\w-]+(\\.[\\d\\w-]+)*(?:(?:\\/[^\\s/]*))*', '',clean)#remove links\n",
    "clean= clean.translate(str.maketrans('', '', string.punctuation))#remove punctuation\n",
    "clean = clean.replace('amp', '')\n",
    "clean = clean.replace('RT', '')\n",
    "clean = clean.replace('realDonaldTrump', '')"
   ]
  },
  {
   "cell_type": "markdown",
   "id": "ec09f237-8830-4216-a51d-e45d2820864e",
   "metadata": {},
   "source": [
    "## Sentiment analysis "
   ]
  },
  {
   "cell_type": "code",
   "execution_count": null,
   "id": "d859fc0d-6d5d-4b77-9d56-c9e8a723d8d5",
   "metadata": {
    "ExecuteTime": {
     "start_time": "2023-12-21T10:03:42.599120Z"
    }
   },
   "outputs": [],
   "source": [
    "import nltk\n",
    "nltk.download('vader_lexicon')\n",
    "from nltk.sentiment.vader import SentimentIntensityAnalyzer\n",
    "\n",
    "sid = SentimentIntensityAnalyzer()\n"
   ]
  },
  {
   "cell_type": "code",
   "execution_count": null,
   "id": "4d236421-4aa7-41f4-9a51-c07badcc776f",
   "metadata": {
    "ExecuteTime": {
     "start_time": "2023-12-21T10:03:42.601272Z"
    }
   },
   "outputs": [],
   "source": [
    "data['scores'] = data['text'].apply(lambda Description: sid.polarity_scores(Description))  \n",
    "\n",
    "#calculate the sentiment score which is a combination of positive, negative and neutral(not mean)\n",
    "data['compound']  = data['scores'].apply(lambda score_dict: score_dict['compound'])\n",
    "data['sentiment_type']=''\n",
    "data.loc[data.compound>0,'sentiment_type']='POSITIVE'\n",
    "data.loc[data.compound==0,'sentiment_type']='NEUTRAL'\n",
    "data.loc[data.compound<0,'sentiment_type']='NEGATIVE'"
   ]
  },
  {
   "cell_type": "markdown",
   "id": "ca9baa07-a8a8-4a68-b78a-b798447a4364",
   "metadata": {},
   "source": [
    "## Covid related"
   ]
  },
  {
   "cell_type": "code",
   "execution_count": null,
   "id": "bd6334b7-097f-4bb6-ac7a-1afe70cf946e",
   "metadata": {
    "ExecuteTime": {
     "start_time": "2023-12-21T10:03:42.603762Z"
    }
   },
   "outputs": [],
   "source": [
    "#create a list of words related to covid\n",
    "list_of_words = ['Covid19' ,'virus', 'vaccine', 'Flu', 'Covid', 'lockdown', 'pandemic', 'coronavirus', 'Coronavirus', 'Corona', 'corona', 'COVID19', 'COVID', 'covid', 'quarantine', 'Quarantine', 'quarentine', 'Quarentine', 'quarantined', 'Quarantined', 'quarentined', 'Quarentined', 'quarantining', 'Quarantining', 'quarentining', 'Quarentining', 'quarantines', 'Quarantines', 'quarentines', 'Quarentines', 'quarantine', 'Quarantine', 'quarentine', 'Quarentine', 'quarantining', 'Quarantining', 'quarentining', 'Quarentining', 'quarantines', 'Quarantines', 'quarentines', 'Quarentines', 'quarantine', 'Quarantine', 'quarentine', 'Quarentine', 'quarantining', 'Quarantining', 'quarentining', 'Quarentining', 'quarantines', 'Quarantines', 'quarentines', 'Quarentines', 'quarantine', 'Quarantine', 'quarentine', 'Quarentine', 'quarantining', 'Quarantining', 'quarentining', 'Quarentining', 'quarantines', 'Quarantines', 'quarentines', 'Quarentines']\n",
    "data['covid_related'] = data['text'].apply(lambda x: True if any(word in x for word in list_of_words) else False)\n",
    "\n",
    "data['covid_related'].value_counts()"
   ]
  },
  {
   "cell_type": "code",
   "execution_count": null,
   "id": "87e1fef7-85c4-402a-9661-754ad0650912",
   "metadata": {
    "ExecuteTime": {
     "start_time": "2023-12-21T10:03:42.606403Z"
    }
   },
   "outputs": [],
   "source": [
    "#data where covid_related is true\n",
    "data_covid_rel = data[data['covid_related']==1]\n",
    "data_not_covid_rel = data[data['covid_related']==0]"
   ]
  },
  {
   "cell_type": "markdown",
   "id": "9750f772-6e5d-4aef-a739-e2c2e758b7e1",
   "metadata": {},
   "source": [
    "t-test between covid related and non related mean of retweets :"
   ]
  },
  {
   "cell_type": "code",
   "execution_count": null,
   "id": "71ec548b-14fb-40d0-8bd5-3bab2d64e3ad",
   "metadata": {
    "ExecuteTime": {
     "start_time": "2023-12-21T10:03:42.608554Z"
    }
   },
   "outputs": [],
   "source": [
    "data_covid_rel = data[data['covid_related']==1]\n",
    "data_not_covid_rel = data[data['covid_related']==0]\n",
    "comparison_covid = pd.DataFrame({'Covid related':data_covid_rel.retweets, 'Non covid related':data_not_covid_rel.retweets})\n",
    "\n",
    "t_stat, p_value_covid = ttest_ind(data_covid_rel.retweets, data_not_covid_rel.retweets, equal_var=False)\n",
    "print('The p-value of the t-test is', p_value_covid.round(5))"
   ]
  },
  {
   "cell_type": "markdown",
   "id": "2e60260c-3485-4d06-acf2-abb10c5a8cef",
   "metadata": {},
   "source": [
    "## LeakTheory related"
   ]
  },
  {
   "cell_type": "code",
   "execution_count": null,
   "id": "3cd9861d-7a5a-4803-8ee7-a1df4bcc39f0",
   "metadata": {
    "ExecuteTime": {
     "start_time": "2023-12-21T10:03:42.611205Z"
    }
   },
   "outputs": [],
   "source": [
    "fake_news_leaktheory = ['China virus', 'china virus', 'chinavirus', 'Chinavirus', 'China Virus']\n",
    "analyze_leaktheory = data['text'].apply(lambda x: True if any(word in x for word in fake_news_leaktheory) else False)\n",
    "\n",
    "# create a new column with the result of the analysis\n",
    "new_col = analyze_leaktheory.reindex(data.index, fill_value=False)\n",
    "data['Leaktheory'] = new_col\n",
    "print('Number of tweets talking about COVID-19 lab leak theory is: ', data['Leaktheory'].sum())\n"
   ]
  },
  {
   "cell_type": "code",
   "execution_count": null,
   "id": "45d29f0e-b41d-4cf3-816a-d05465c655bf",
   "metadata": {
    "ExecuteTime": {
     "start_time": "2023-12-21T10:03:42.614511Z"
    }
   },
   "outputs": [],
   "source": [
    "data_Leaktheory_rel = data[data['Leaktheory']==1]\n",
    "data_not_Leaktheory_rel = data[data['Leaktheory']==0]\n",
    "comparison_Leaktheory = pd.DataFrame({'Leaktheory related':data_Leaktheory_rel.retweets, 'Non Leaktheory related':data_not_Leaktheory_rel.retweets})\n",
    "\n",
    "t_stat, p_value_Leaktheory = ttest_ind(data_Leaktheory_rel.retweets, data_not_Leaktheory_rel.retweets, equal_var=False)\n",
    "print('The p-value is', p_value_Leaktheory.round(5))"
   ]
  },
  {
   "cell_type": "markdown",
   "id": "0a937d30-156d-4e39-8479-0f4e1dbcd285",
   "metadata": {},
   "source": [
    "## Swine flu related"
   ]
  },
  {
   "cell_type": "code",
   "execution_count": null,
   "id": "50ef2be3-fb11-4114-b34b-05b9721155f5",
   "metadata": {
    "ExecuteTime": {
     "start_time": "2023-12-21T10:03:42.617225Z"
    }
   },
   "outputs": [],
   "source": [
    "fake_news_swineflu = ['Swine', 'swine', 'H1N1', 'h1n1']\n",
    "analyze_swineflu = data['text'].apply(lambda x: True if any(word in x for word in fake_news_swineflu) else False)\n",
    "\n",
    "# create a new column with the result of the analysis\n",
    "new_col = analyze_swineflu.reindex(data.index, fill_value=False)\n",
    "data['Swineflu'] = new_col"
   ]
  },
  {
   "cell_type": "code",
   "execution_count": null,
   "id": "d5cd3457-8ba4-46d9-8988-4a31b79d9d2f",
   "metadata": {
    "ExecuteTime": {
     "start_time": "2023-12-21T10:03:42.619602Z"
    }
   },
   "outputs": [],
   "source": [
    "data_Swineflu_rel = data[data['Swineflu']==1]\n",
    "data_not_Swineflu_rel = data[data['Swineflu']==0]\n",
    "comparison_Swineflu = pd.DataFrame({'Swineflu related':data_Swineflu_rel.retweets, 'Non Swineflu related':data_not_Swineflu_rel.retweets})\n",
    "\n",
    "t_stat, p_value_Swineflu = ttest_ind(data_Swineflu_rel.retweets, data_not_Swineflu_rel.retweets, equal_var=False)\n",
    "print('The p-value of the t-test is', p_value_Swineflu.round(5))"
   ]
  },
  {
   "cell_type": "markdown",
   "id": "94dda1d5-ded4-4884-abe8-e923373b83bc",
   "metadata": {},
   "source": [
    "## Hydroxychloroquine related"
   ]
  },
  {
   "cell_type": "code",
   "execution_count": null,
   "id": "de889e88-dee0-48e9-949f-9c29216ccd4c",
   "metadata": {
    "ExecuteTime": {
     "start_time": "2023-12-21T10:03:42.622171Z"
    }
   },
   "outputs": [],
   "source": [
    "fake_news = ['Hydroxychloroquine', 'hydroxychloroquine']\n",
    "analyze = data['text'].apply(lambda x: True if any(word in x for word in fake_news) else False)\n",
    "\n",
    "# create a new column with the result of the analysis\n",
    "new_col = analyze.reindex(data.index, fill_value=False)\n",
    "data['Hydroxychloroquine']=new_col\n",
    "\n",
    "print('Number of tweets talking about Hydroxychloroquine is: ', data['Hydroxychloroquine'].sum())"
   ]
  },
  {
   "cell_type": "code",
   "execution_count": null,
   "id": "69b7a633-e4fd-4fcf-b458-4f9ba2bd0590",
   "metadata": {
    "ExecuteTime": {
     "start_time": "2023-12-21T10:03:42.624377Z"
    }
   },
   "outputs": [],
   "source": [
    "data_Hydroxychloroquine_rel = data[data['Hydroxychloroquine']==1]\n",
    "data_not_Hydroxychloroquine_rel = data[data['Hydroxychloroquine']==0]\n",
    "comparison_Hydroxychloroquine = pd.DataFrame({'Hydroxychloroquine related':data_Hydroxychloroquine_rel.retweets, 'Non Hydroxychloroquine related':data_not_Hydroxychloroquine_rel.retweets})\n",
    "\n",
    "t_stat, p_value_Hydroxychloroquine = ttest_ind(data_Hydroxychloroquine_rel.retweets, data_not_Hydroxychloroquine_rel.retweets, equal_var=False)\n",
    "print('The p-value of the t-test is', p_value_Hydroxychloroquine.round(5))"
   ]
  },
  {
   "cell_type": "markdown",
   "id": "a81b4ec0-7236-4163-a733-83c2b6d3e6ed",
   "metadata": {},
   "source": [
    "## Biden related"
   ]
  },
  {
   "cell_type": "code",
   "execution_count": null,
   "id": "325428df-da40-480e-bf63-f67bd5204699",
   "metadata": {
    "ExecuteTime": {
     "start_time": "2023-12-21T10:03:42.627026Z"
    }
   },
   "outputs": [],
   "source": [
    "biden = ['Joe Biden','biden','joe','Joe','Biden','sleepy']\n",
    "analyze_biden = data['text'].apply(lambda x: True if any(word in x for word in biden) else False)\n",
    "\n",
    "# create a new column with the result of the analysis\n",
    "new_col = analyze_biden.reindex(data.index, fill_value=False)\n",
    "data['biden'] = new_col\n",
    "print('Number of tweets talking about biden is: ', data['biden'].sum())\n"
   ]
  },
  {
   "cell_type": "code",
   "execution_count": null,
   "id": "db06e24c-d93b-4400-83cf-13014b265e20",
   "metadata": {
    "ExecuteTime": {
     "start_time": "2023-12-21T10:03:42.630001Z"
    }
   },
   "outputs": [],
   "source": [
    "data_biden_rel = data[data['biden']==1]\n",
    "data_not_biden_rel = data[data['biden']==0]\n",
    "comparison_biden = pd.DataFrame({'biden related':data_biden_rel.retweets, 'Non biden related':data_not_biden_rel.retweets})\n",
    "\n",
    "t_stat, p_value_biden = ttest_ind(data_biden_rel.retweets, data_not_biden_rel.retweets, equal_var=False)\n",
    "print('The p-value of the t-test is', p_value_biden.round(5))"
   ]
  },
  {
   "cell_type": "markdown",
   "id": "94052aea-ecbe-47e2-8699-988bee10bea4",
   "metadata": {},
   "source": [
    "## Democrats related"
   ]
  },
  {
   "cell_type": "code",
   "execution_count": null,
   "id": "db5d63b0-03e3-4aa8-92b2-f68e40df9dba",
   "metadata": {
    "ExecuteTime": {
     "start_time": "2023-12-21T10:03:42.632222Z"
    }
   },
   "outputs": [],
   "source": [
    "democrats = ['Democrats','democrats','Dems','dems']\n",
    "analyze_democrats = data['text'].apply(lambda x: True if any(word in x for word in democrats) else False)\n",
    "\n",
    "# create a new column with the result of the analysis\n",
    "new_col = analyze_democrats.reindex(data.index, fill_value=False)\n",
    "data['democrats'] = new_col\n",
    "print('Number of tweets talking about democrats is: ', data['democrats'].sum())"
   ]
  },
  {
   "cell_type": "code",
   "execution_count": null,
   "id": "7e87a90f-320e-4d32-8bb3-c7132e4ba3d4",
   "metadata": {
    "ExecuteTime": {
     "start_time": "2023-12-21T10:03:42.634262Z"
    }
   },
   "outputs": [],
   "source": [
    "data_democrats_rel = data[data['democrats']==1]\n",
    "data_not_democrats_rel = data[data['democrats']==0]\n",
    "comparison_democrats = pd.DataFrame({'democrats related':data_democrats_rel.retweets, 'Non democrats related':data_not_democrats_rel.retweets})\n",
    "\n",
    "t_stat, p_value_democrats = ttest_ind(data_democrats_rel.retweets, data_not_democrats_rel.retweets, equal_var=False)\n",
    "print('The p-value of the t-test is', p_value_democrats.round(5))"
   ]
  },
  {
   "cell_type": "markdown",
   "id": "6e98fad4-6fd5-4ec7-ad54-af3cf65e69a0",
   "metadata": {},
   "source": [
    "## Vaccines related"
   ]
  },
  {
   "cell_type": "code",
   "execution_count": null,
   "id": "913e28f3-7f56-43aa-b9ac-95962fd9ecc4",
   "metadata": {
    "ExecuteTime": {
     "start_time": "2023-12-21T10:03:42.636254Z"
    }
   },
   "outputs": [],
   "source": [
    "vaccines = ['vaccines','Vaccines','vax','Vax','vaccin']\n",
    "analyze_vaccines = data['text'].apply(lambda x: True if any(word in x for word in democrats) else False)\n",
    "\n",
    "# create a new column with the result of the analysis\n",
    "new_col = analyze_vaccines.reindex(data.index, fill_value=False)\n",
    "data['vaccines'] = new_col\n",
    "print('Number of tweets talking about vaccines of the t-test is: ', data['vaccines'].sum())"
   ]
  },
  {
   "cell_type": "code",
   "execution_count": null,
   "id": "046aaeee-ecda-4517-be32-23d383b7d893",
   "metadata": {
    "ExecuteTime": {
     "start_time": "2023-12-21T10:03:42.637701Z"
    }
   },
   "outputs": [],
   "source": [
    "data_vaccines_rel = data[data['vaccines']==1]\n",
    "data_not_vaccines_rel = data[data['vaccines']==0]\n",
    "comparison_vaccines = pd.DataFrame({'vaccines related':data_vaccines_rel.retweets, 'Non vaccines related':data_not_vaccines_rel.retweets})\n",
    "\n",
    "\n",
    "t_stat, p_value_vaccines = ttest_ind(data_vaccines_rel.retweets, data_not_vaccines_rel.retweets, equal_var=False)\n",
    "print('The p-value of the t-test is', p_value_vaccines.round(5))"
   ]
  },
  {
   "cell_type": "markdown",
   "id": "bc873c02-8a1c-493e-96d1-f3f33ac6216d",
   "metadata": {},
   "source": [
    "## Aggregate results into more general categories:"
   ]
  },
  {
   "cell_type": "code",
   "execution_count": null,
   "id": "80fdd573-7bdb-49fb-9940-eb12576a6249",
   "metadata": {
    "ExecuteTime": {
     "start_time": "2023-12-21T10:03:42.639067Z"
    }
   },
   "outputs": [],
   "source": [
    "data['is_fake_news'] = (data['Hydroxychloroquine']|data['Swineflu']|data['Leaktheory'])\n",
    "data['is_democrats_related'] = (data['biden']|data['democrats'])"
   ]
  },
  {
   "cell_type": "code",
   "execution_count": null,
   "id": "f7976bae-30ce-420a-8d6f-80a9b00754b0",
   "metadata": {
    "ExecuteTime": {
     "start_time": "2023-12-21T10:03:42.640421Z"
    }
   },
   "outputs": [],
   "source": [
    "data['is_democrats_related'] .sum()"
   ]
  },
  {
   "cell_type": "code",
   "execution_count": null,
   "id": "fad69104-27ab-41e8-8f54-99d525d5b3e9",
   "metadata": {
    "ExecuteTime": {
     "start_time": "2023-12-21T10:03:42.641807Z"
    }
   },
   "outputs": [],
   "source": [
    "data_fake_news_rel = data[data['is_fake_news']==1]\n",
    "data_not_fake_news_rel = data[data['is_fake_news']==0]\n",
    "comparison_fake_news = pd.DataFrame({'fake_news related':data_fake_news_rel.retweets, 'Non fake_news related':data_not_fake_news_rel.retweets})\n",
    "\n",
    "\n",
    "t_stat, p_value_fake_news = ttest_ind(data_fake_news_rel.retweets, data_not_fake_news_rel.retweets, equal_var=False)\n",
    "print('The p-value of the t-test is', p_value_fake_news.round(5))"
   ]
  },
  {
   "cell_type": "markdown",
   "id": "493ab38c-2bab-408d-8fd5-33c58d710f80",
   "metadata": {},
   "source": [
    "## Plots of number of rewteets by topics:"
   ]
  },
  {
   "cell_type": "code",
   "execution_count": null,
   "id": "c8bfbe85-b866-48e1-9f29-515cb9c1a770",
   "metadata": {
    "ExecuteTime": {
     "start_time": "2023-12-21T10:03:42.643536Z"
    }
   },
   "outputs": [],
   "source": [
    "fig, axs = plt.subplots(4, 2,figsize=(15,20))\n",
    "plt.title('Number of retweets per categories',fontsize=25)\n",
    "ax0 = sns.pointplot(data=comparison_covid, ax=axs[0, 0], estimator='mean', errorbar=('ci', 95), color = 'r')\n",
    "ax0 .set(title='Comparison of retweets (errorbar = CI 95%)')\n",
    "ax0 .set(ylabel='Number of retweets')\n",
    "\n",
    "ax1 = sns.pointplot(data=comparison_Leaktheory,ax=axs[0, 1], estimator='mean', errorbar=('ci', 95), color = 'r')\n",
    "ax1 .set(title='Comparison of retweets (errorbar = CI 95%)')\n",
    "ax1 .set(ylabel='Number of retweets')\n",
    "\n",
    "ax2 = sns.pointplot(data=comparison_Swineflu, ax=axs[1, 0], estimator='mean', errorbar=('ci', 95), color = 'r')\n",
    "ax2 .set(title='Comparison of retweets (errorbar = CI 95%)')\n",
    "ax2 .set(ylabel='Number of retweets')\n",
    "\n",
    "ax3 = sns.pointplot(data=comparison_Hydroxychloroquine, ax= axs[1, 1], estimator='mean', errorbar=('ci', 95), color = 'r')\n",
    "ax3 .set(title='Comparison of retweets (errorbar = CI 95%)')\n",
    "ax3 .set(ylabel='Number of retweets')\n",
    "\n",
    "ax4 = sns.pointplot(data=comparison_biden,ax=axs[2, 0], estimator='mean', errorbar=('ci', 95), color = 'r')\n",
    "ax4 .set(title='Comparison of retweets (errorbar = CI 95%)')\n",
    "ax4 .set(ylabel='Number of retweets')\n",
    "\n",
    "ax5 = sns.pointplot(data=comparison_democrats, ax=axs[2, 1], estimator='mean', errorbar=('ci', 95), color = 'r')\n",
    "ax5 .set(title='Comparison of retweets (errorbar = CI 95%)')\n",
    "ax5 .set(ylabel='Number of retweets')\n",
    "\n",
    "ax6 = sns.pointplot(data=comparison_vaccines, ax=axs[3, 0], estimator='mean', errorbar=('ci', 95), color = 'r')\n",
    "ax6 .set(title='Comparison of retweets (errorbar = CI 95%)')\n",
    "ax6 .set(ylabel='Number of retweets')\n",
    "\n",
    "ax7 = sns.pointplot(data=comparison_fake_news, ax=axs[3, 1], estimator='mean', errorbar=('ci', 95), color = 'r')\n",
    "ax7 .set(title='Comparison of retweets (errorbar = CI 95%)')\n",
    "ax7 .set(ylabel='Number of retweets')\n",
    "\n",
    "plt.savefig('retweets_per_categories')"
   ]
  },
  {
   "cell_type": "markdown",
   "id": "81a7cc7b-6928-4b52-8e0d-2874e5cb9dcc",
   "metadata": {},
   "source": [
    "## Regression to disentangle categories into predicting the number of retweets:"
   ]
  },
  {
   "cell_type": "code",
   "execution_count": null,
   "id": "485b949a-4376-4830-934e-e81686ef6ba7",
   "metadata": {
    "ExecuteTime": {
     "start_time": "2023-12-21T10:03:42.645213Z"
    },
    "collapsed": false,
    "jupyter": {
     "outputs_hidden": false
    }
   },
   "outputs": [],
   "source": [
    "mod_retweets = smf.ols(formula='retweets ~ C(covid_related)+C(is_fake_news)+C(sentiment_type)', data=data)"
   ]
  },
  {
   "cell_type": "code",
   "execution_count": null,
   "id": "95a0b772-a9eb-44f2-82ca-c01b015e2cf9",
   "metadata": {
    "ExecuteTime": {
     "start_time": "2023-12-21T10:03:42.646813Z"
    }
   },
   "outputs": [],
   "source": [
    "res_retweets = mod_retweets.fit()\n",
    "print(res_retweets.summary())"
   ]
  },
  {
   "cell_type": "markdown",
   "id": "8a8363ba-661a-4b89-8bac-94efd1b1cb17",
   "metadata": {},
   "source": [
    "## Compare number of retweets per categories :"
   ]
  },
  {
   "cell_type": "code",
   "execution_count": null,
   "id": "69380aee-c5b1-41ab-bec2-c4cf38233e5a",
   "metadata": {
    "ExecuteTime": {
     "start_time": "2023-12-21T10:03:42.648616Z"
    }
   },
   "outputs": [],
   "source": [
    "compare_retweets = pd.DataFrame({'Democrats':data_democrats_rel.retweets,'Biden':data_biden_rel.retweets,\n",
    "                    'Covid':data_covid_rel.retweets,'Swine flu':data_Swineflu_rel.retweets,\n",
    "                     'Leak Theory':data_Leaktheory_rel.retweets,'Hydroxychloroquine':data_Hydroxychloroquine_rel.retweets,\n",
    "                               'Vaccines':data_vaccines_rel.retweets})\n",
    "sns.color_palette(\"colorblind\", 8)\n",
    "plt.figure(figsize=(15,5))\n",
    "ax = sns.barplot(compare_retweets)\n",
    "ax.set(xlabel='Categories', ylabel='Number of rewtweets')\n",
    "ax.set_title(\"Number of average retweets for some identified categories\",fontsize=25)\n",
    "plt.savefig('barplot_per_categories')"
   ]
  },
  {
   "cell_type": "markdown",
   "id": "78529972-0a71-43c8-bf3f-d6edc329e521",
   "metadata": {},
   "source": [
    "# Studying sentiment"
   ]
  },
  {
   "cell_type": "markdown",
   "id": "05e516e5-388f-4956-90b7-34e07c2ba187",
   "metadata": {},
   "source": [
    "## Sentiment distributions"
   ]
  },
  {
   "cell_type": "code",
   "execution_count": null,
   "id": "b51e90e0-3af5-45ff-839d-157801710b36",
   "metadata": {
    "ExecuteTime": {
     "start_time": "2023-12-21T10:03:42.651355Z"
    }
   },
   "outputs": [],
   "source": [
    "fig, axes = plt.subplots(nrows=1, ncols=1, sharex=True, sharey=False, figsize=(4, 4))\n",
    "\n",
    "var = 'sentiment_type'\n",
    "colors = ['lightgreen','#FFCCCC', 'lightyellow']\n",
    "red_color = '#8C1515'  # Dark Red or Maroon\n",
    "green_color = '#556B2F'  # Dark Green or Olive Green\n",
    "yellow_color = '#B8860B'  # Dark Yellow or Gold\n",
    "colors = [green_color,red_color,yellow_color]\n",
    "\n",
    "print(data[var].value_counts())\n",
    "plt.pie(data[var].value_counts(), labels=['Positive', 'Negative','Neutral'], autopct='%1.1f%%', startangle=90, colors=colors)\n",
    "plt.title(f'Distribution of sentiments',fontsize=25)\n",
    "\n",
    "plt.tight_layout()\n",
    "plt.savefig('sentiment_pie_chart', bbox_inches='tight')"
   ]
  },
  {
   "cell_type": "markdown",
   "id": "ab666fae-8fc4-413d-929d-718a326cf8f5",
   "metadata": {},
   "source": [
    "**DT is actually a positive guy!**\n",
    "\n",
    "Show a few tweets:"
   ]
  },
  {
   "cell_type": "code",
   "execution_count": null,
   "id": "21737393-9f46-4c80-8537-d0136b446184",
   "metadata": {
    "ExecuteTime": {
     "start_time": "2023-12-21T10:03:42.652679Z"
    }
   },
   "outputs": [],
   "source": [
    "data[data.sentiment_type=='POSITIVE'].text"
   ]
  },
  {
   "cell_type": "code",
   "execution_count": null,
   "id": "68a9f7af-2f2d-4d40-91ff-67d56ef8f8a8",
   "metadata": {
    "ExecuteTime": {
     "start_time": "2023-12-21T10:03:42.653962Z"
    }
   },
   "outputs": [],
   "source": [
    "data[data.sentiment_type=='NEUTRAL'].text"
   ]
  },
  {
   "cell_type": "code",
   "execution_count": null,
   "id": "9a712e64-125e-4527-b9a3-d9f5901d979e",
   "metadata": {
    "ExecuteTime": {
     "start_time": "2023-12-21T10:03:42.655238Z"
    }
   },
   "outputs": [],
   "source": [
    "data[data.sentiment_type=='NEGATIVE'].text"
   ]
  },
  {
   "cell_type": "markdown",
   "id": "b8e3d69c-442c-4c02-9d64-156223e22050",
   "metadata": {},
   "source": [
    "## Retweets per sentiment :"
   ]
  },
  {
   "cell_type": "code",
   "execution_count": null,
   "id": "ea3f3939-ca0f-480a-ba84-5218cc4cbb02",
   "metadata": {
    "ExecuteTime": {
     "start_time": "2023-12-21T10:03:42.656671Z"
    }
   },
   "outputs": [],
   "source": [
    "plt.figure(figsize=(15,5))\n",
    "sns.pointplot(data,x='sentiment_type',y='retweets')\n",
    "plt.title('Number of retweets per sentiment category',fontsize=25)\n",
    "plt.xlabel('Sentiment type',fontsize=20)\n",
    "plt.ylabel('Retweets',fontsize=20)\n",
    "plt.savefig('retweet_per_sentiment')"
   ]
  },
  {
   "cell_type": "markdown",
   "id": "9352b9a9-da68-478c-9c44-1544d0cd6b53",
   "metadata": {},
   "source": [
    "## Study relation between categories and sentiments:"
   ]
  },
  {
   "cell_type": "code",
   "execution_count": null,
   "id": "1880885c-15d1-49da-8ae6-b024f4209311",
   "metadata": {
    "ExecuteTime": {
     "start_time": "2023-12-21T10:03:42.657996Z"
    }
   },
   "outputs": [],
   "source": [
    "pivot_dem = pd.crosstab(data[data['democrats']==True].democrats, data['sentiment_type'])\n",
    "pivot_biden = pd.crosstab(data[data['biden']==True].biden, data['sentiment_type'])\n",
    "pivot_covid = pd.crosstab(data[data['covid_related']==True].covid_related, data['sentiment_type'])\n",
    "pivot_fake_news = pd.crosstab(data[data['is_fake_news']==True].is_fake_news, data['sentiment_type'])\n",
    "pivot_vaccines = pd.crosstab(data[data['vaccines']==True].vaccines, data['sentiment_type'])\n",
    "\n",
    "pivot_df = pd.concat([pivot_dem,pivot_biden,pivot_covid,pivot_fake_news,pivot_vaccines])\n",
    "proportion_df = 100*pivot_df.div(pivot_df.sum(axis=1), axis=0)"
   ]
  },
  {
   "cell_type": "code",
   "execution_count": null,
   "id": "56d4def9-25b8-46fb-be6e-435923f9b951",
   "metadata": {
    "ExecuteTime": {
     "start_time": "2023-12-21T10:03:42.661399Z"
    }
   },
   "outputs": [],
   "source": [
    "plt.figure(figsize=(15,5))\n",
    "ax = proportion_df.plot(kind='bar', stacked=True, colormap='viridis', figsize=(10, 6))\n",
    "plt.title(\"Stacked Bar plot of sentiment's proportion for each topic\",fontsize=25)\n",
    "ax.set_xticklabels(['Democrats related','Biden related','Covid related','Fake news related','Vaccines related'])\n",
    "plt.xlabel('Topics',fontsize=20)\n",
    "plt.ylabel('Percentage',fontsize=20)\n",
    "plt.xticks(rotation=45)\n",
    "plt.legend(title='Sentiment Type', bbox_to_anchor=(1.05, 1), loc='upper left',fontsize=15)\n",
    "plt.savefig('stacked_plot_sentiment_categories', bbox_inches='tight')\n",
    "plt.tight_layout()"
   ]
  },
  {
   "cell_type": "markdown",
   "id": "4a64c8d7-0b52-4f85-974a-062760aec4f6",
   "metadata": {},
   "source": [
    "**Caution: some 'positive' are actually sarcastic:**"
   ]
  },
  {
   "cell_type": "code",
   "execution_count": null,
   "id": "735ab8bc-25c2-478c-bb03-e529b7e752f6",
   "metadata": {
    "ExecuteTime": {
     "start_time": "2023-12-21T10:03:42.663315Z"
    }
   },
   "outputs": [],
   "source": [
    "data_biden_rel[data_biden_rel.sentiment_type=='POSITIVE'].text[1720]"
   ]
  },
  {
   "cell_type": "markdown",
   "id": "207f0de4-0a0a-40d2-b695-818adf1dc918",
   "metadata": {},
   "source": [
    "## Regression with one hotted categories :"
   ]
  },
  {
   "cell_type": "code",
   "execution_count": null,
   "id": "ee74134e-f51f-49fa-bfe3-bd1cc9512675",
   "metadata": {},
   "outputs": [],
   "source": [
    "data['POSITIVE'] = data['sentiment_type']=='POSITIVE'\n",
    "data['NEGATIVE'] = data['sentiment_type']=='NEGATIVE'"
   ]
  },
  {
   "cell_type": "code",
   "execution_count": null,
   "id": "4861f89d-a2f0-417f-93f5-8e6366780736",
   "metadata": {
    "ExecuteTime": {
     "end_time": "2023-12-21T12:07:04.951852Z",
     "start_time": "2023-12-21T12:07:04.936637Z"
    }
   },
   "outputs": [],
   "source": [
    "mod_retweets = smf.ols(formula='retweets ~ +C(covid_related)+C(is_fake_news)+C(NEGATIVE)+C(POSITIVE)', data=data)\n",
    "res_retweets = mod_retweets.fit()\n",
    "print(res_retweets.summary())"
   ]
  },
  {
   "cell_type": "markdown",
   "id": "badc732c-b86d-4b0a-ac74-207714e6a42b",
   "metadata": {},
   "source": [
    "Covid ot big impacts but democrats does, negative has a significant positive impact\n",
    "how to make meaningful regression?"
   ]
  }
 ],
 "metadata": {
  "kernelspec": {
   "display_name": "Python [conda env:ada]",
   "language": "python",
   "name": "conda-env-ada-py"
  },
  "language_info": {
   "codemirror_mode": {
    "name": "ipython",
    "version": 3
   },
   "file_extension": ".py",
   "mimetype": "text/x-python",
   "name": "python",
   "nbconvert_exporter": "python",
   "pygments_lexer": "ipython3",
   "version": "3.9.18"
  }
 },
 "nbformat": 4,
 "nbformat_minor": 5
}
