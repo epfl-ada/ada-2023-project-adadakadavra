{
 "cells": [
  {
   "cell_type": "code",
   "execution_count": 1,
   "metadata": {},
   "outputs": [],
   "source": [
    "import pandas as pd\n",
    "import json\n",
    "from datetime import datetime\n",
    "import matplotlib.pyplot as plt"
   ]
  },
  {
   "cell_type": "markdown",
   "metadata": {},
   "source": [
    "## Loading of datasets to pandas Dataframes"
   ]
  },
  {
   "cell_type": "markdown",
   "metadata": {},
   "source": [
    "#### Loading of Wikipedia"
   ]
  },
  {
   "cell_type": "code",
   "execution_count": 2,
   "metadata": {},
   "outputs": [],
   "source": [
    "def load_wikipedia_df(pagename, filename):\n",
    "    try:\n",
    "        with open('{filename}/{filename}_wikipedia.json'.format(filename=filename), 'r') as file:\n",
    "            wikipedia_dict = json.load(file)\n",
    "\n",
    "            dates = [item['timestamp'] for item in wikipedia_dict['items']]\n",
    "            views = [item['views'] for item in wikipedia_dict['items']]\n",
    "\n",
    "            wikipedia_df = pd.DataFrame({'Date': dates, 'Views': views})\n",
    "            wikipedia_df['Date'] = pd.to_datetime(wikipedia_df['Date'], format='%Y%m%d00')\n",
    "            wikipedia_df['Week'] = wikipedia_df['Date'] - pd.to_timedelta((wikipedia_df['Date'].dt.dayofweek+1) % 7, unit='D')\n",
    "            weekly_wikipedia_df = wikipedia_df.groupby('Week').apply(lambda x: x.Views.sum()).reset_index(name='Views').set_index('Week')\n",
    "\n",
    "            wikipedia_df.set_index('Date', inplace=True)\n",
    "    except EnvironmentError: \n",
    "        print('Something went wrong in the processing of wikipedia series')\n",
    "\n",
    "    return weekly_wikipedia_df, wikipedia_df\n"
   ]
  },
  {
   "cell_type": "markdown",
   "metadata": {},
   "source": [
    "#### Loading of Google Trends"
   ]
  },
  {
   "cell_type": "code",
   "execution_count": 5,
   "metadata": {},
   "outputs": [],
   "source": [
    "def load_gtrend_df(pagename, filename):\n",
    "    trend_data = []\n",
    "    month_mapping = {'Jan': 1, 'Feb': 2, 'Mar': 3, 'Apr': 4, 'May': 5, 'Jun': 6, 'Jul': 7, 'Aug': 8, 'Sep': 9, 'Oct': 10, 'Nov': 11, 'Dec': 12}\n",
    "\n",
    "    with open('{filename}/{filename}_googletrends.json'.format(filename=filename), 'r') as file:\n",
    "        gtrends_dict = json.load(file)\n",
    "\n",
    "        dates = []\n",
    "        views = [int(data['values'][0]['value']) for data in gtrends_dict['interest_over_time']['timeline_data']]\n",
    "\n",
    "        for data in gtrends_dict['interest_over_time']['timeline_data']:\n",
    "            parts = data['date'].replace('–', ' '). replace(',', ' ').split()    \n",
    "            dates.append(datetime(year=int(parts[2 if len(parts) == 6 else -1]), \n",
    "                                    month=month_mapping[parts[0]], \n",
    "                                    day=int(parts[1])))\n",
    "        \n",
    "        gtrends_df = pd.DataFrame({'Date': dates, 'Views': views})\n",
    "        gtrends_df.set_index('Date', inplace=True)\n",
    "\n",
    "    return gtrends_df"
   ]
  },
  {
   "cell_type": "markdown",
   "metadata": {},
   "source": [
    "## Visualization of the two dataframes on the same plot"
   ]
  },
  {
   "cell_type": "code",
   "execution_count": 4,
   "metadata": {},
   "outputs": [
    {
     "name": "stdout",
     "output_type": "stream",
     "text": [
      "Something went wrong in the processing of wikipedia series\n"
     ]
    },
    {
     "ename": "UnboundLocalError",
     "evalue": "local variable 'weekly_wikipedia_df' referenced before assignment",
     "output_type": "error",
     "traceback": [
      "\u001b[0;31m---------------------------------------------------------------------------\u001b[0m",
      "\u001b[0;31mUnboundLocalError\u001b[0m                         Traceback (most recent call last)",
      "Cell \u001b[0;32mIn[4], line 4\u001b[0m\n\u001b[1;32m      1\u001b[0m pagename \u001b[38;5;241m=\u001b[39m \u001b[38;5;124m'\u001b[39m\u001b[38;5;124mCOVID-19 lab leak theory\u001b[39m\u001b[38;5;124m'\u001b[39m\n\u001b[1;32m      2\u001b[0m filename \u001b[38;5;241m=\u001b[39m \u001b[38;5;124m'\u001b[39m\u001b[38;5;124mleaktheory\u001b[39m\u001b[38;5;124m'\u001b[39m\n\u001b[0;32m----> 4\u001b[0m weekly_wikipedia_df, _ \u001b[38;5;241m=\u001b[39m \u001b[43mload_wikipedia_df\u001b[49m\u001b[43m(\u001b[49m\u001b[43mpagename\u001b[49m\u001b[43m,\u001b[49m\u001b[43m \u001b[49m\u001b[43mfilename\u001b[49m\u001b[43m)\u001b[49m\n\u001b[1;32m      5\u001b[0m gtrends_df \u001b[38;5;241m=\u001b[39m load_gtrend_df(pagename, filename)\n\u001b[1;32m      7\u001b[0m fig, axis \u001b[38;5;241m=\u001b[39m plt\u001b[38;5;241m.\u001b[39msubplots(ncols\u001b[38;5;241m=\u001b[39m\u001b[38;5;241m1\u001b[39m, nrows\u001b[38;5;241m=\u001b[39m\u001b[38;5;241m2\u001b[39m, figsize\u001b[38;5;241m=\u001b[39m(\u001b[38;5;241m7\u001b[39m,\u001b[38;5;241m5\u001b[39m), sharex\u001b[38;5;241m=\u001b[39m\u001b[38;5;28;01mTrue\u001b[39;00m)\n",
      "Cell \u001b[0;32mIn[2], line 18\u001b[0m, in \u001b[0;36mload_wikipedia_df\u001b[0;34m(pagename, filename)\u001b[0m\n\u001b[1;32m     15\u001b[0m \u001b[38;5;28;01mexcept\u001b[39;00m \u001b[38;5;167;01mEnvironmentError\u001b[39;00m: \n\u001b[1;32m     16\u001b[0m     \u001b[38;5;28mprint\u001b[39m(\u001b[38;5;124m'\u001b[39m\u001b[38;5;124mSomething went wrong in the processing of wikipedia series\u001b[39m\u001b[38;5;124m'\u001b[39m)\n\u001b[0;32m---> 18\u001b[0m \u001b[38;5;28;01mreturn\u001b[39;00m \u001b[43mweekly_wikipedia_df\u001b[49m, wikipedia_df\n",
      "\u001b[0;31mUnboundLocalError\u001b[0m: local variable 'weekly_wikipedia_df' referenced before assignment"
     ]
    }
   ],
   "source": [
    "pagename = 'COVID-19 lab leak theory'\n",
    "filename = 'leaktheory'\n",
    "\n",
    "weekly_wikipedia_df, _ = load_wikipedia_df(pagename, filename)\n",
    "gtrends_df = load_gtrend_df(pagename, filename)\n",
    "\n",
    "fig, axis = plt.subplots(ncols=1, nrows=2, figsize=(7,5), sharex=True)\n",
    "fig.tight_layout(pad=3.0)\n",
    "\n",
    "fig.suptitle('Searches related to {pagename}'.format(pagename=pagename), size=20)\n",
    "fig.subplots_adjust(top=0.85)\n",
    "\n",
    "axis[0].set_title('Google Trends', size=15)\n",
    "axis[0].set_ylabel('Relative search interest')\n",
    "axis[0].plot(gtrends_df['Views'])\n",
    "\n",
    "axis[1].set_title('Wikipedia', size=15)\n",
    "axis[1].set_ylabel('Number of views')\n",
    "axis[1].plot(weekly_wikipedia_df['Views'])\n",
    "axis[1].set_xlabel('Date')\n",
    "\n",
    "plt.show()"
   ]
  }
 ],
 "metadata": {
  "kernelspec": {
   "display_name": "Python 3 (ipykernel)",
   "language": "python",
   "name": "python3"
  },
  "language_info": {
   "codemirror_mode": {
    "name": "ipython",
    "version": 3
   },
   "file_extension": ".py",
   "mimetype": "text/x-python",
   "name": "python",
   "nbconvert_exporter": "python",
   "pygments_lexer": "ipython3",
   "version": "3.9.16"
  }
 },
 "nbformat": 4,
 "nbformat_minor": 4
}
