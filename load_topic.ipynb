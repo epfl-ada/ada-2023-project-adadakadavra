{
 "cells": [
  {
   "cell_type": "code",
   "execution_count": 2,
   "metadata": {},
   "outputs": [],
   "source": [
    "import os\n",
    "from datetime import datetime\n",
    "from serpapi import GoogleSearch\n",
    "import json"
   ]
  },
  {
   "cell_type": "markdown",
   "metadata": {},
   "source": [
    "## Download Json dataset"
   ]
  },
  {
   "cell_type": "code",
   "execution_count": 3,
   "metadata": {},
   "outputs": [],
   "source": [
    "filename = 'leaktheory'\n",
    "pagename = 'COVID-19 lab leak theory'\n",
    "start_date = datetime(year=2020, month=1, day=1)\n",
    "end_date = datetime(year=2021, month=1, day=1)"
   ]
  },
  {
   "cell_type": "markdown",
   "metadata": {},
   "source": [
    "#### From Wikipedia"
   ]
  },
  {
   "cell_type": "code",
   "execution_count": 6,
   "metadata": {},
   "outputs": [
    {
     "data": {
      "text/plain": [
       "1"
      ]
     },
     "execution_count": 6,
     "metadata": {},
     "output_type": "execute_result"
    }
   ],
   "source": [
    "saving_path = 'extra_material/{filename}/{filename}_wikipedia.json'.format(filename=filename)\n",
    "\n",
    "command = 'wget -O {saving_path} \\'https://wikimedia.org/api/rest_v1/metrics/pageviews/per-article/en.wikipedia/all-access/user/{page_name}/daily/{start_date}/{end_date}\\''\\\n",
    "            .format(saving_path=saving_path, page_name=pagename, start_date=start_date.strftime('%Y%m%d%H'), end_date=end_date.strftime('%Y%m%d%H'))\n",
    "\n",
    "os.system(command)"
   ]
  },
  {
   "cell_type": "markdown",
   "metadata": {},
   "source": [
    "#### From Google Trends"
   ]
  },
  {
   "cell_type": "code",
   "execution_count": 5,
   "metadata": {},
   "outputs": [],
   "source": [
    "# to install: pip install google-search-results\n",
    "saving_path = 'extra_material/{filename}/{filename}_googletrends.json'.format(filename=filename)\n",
    "\n",
    "params = {\n",
    "  \"engine\": \"google_trends\",\n",
    "  \"q\": pagename,\n",
    "  \"data_type\": \"TIMESERIES\",\n",
    "  \"api_key\": \"dd2b1a64c96847db4dc6d2d2146d7eed59a48a6657355d7a5232f91b1f463f25\",\n",
    "  \"date\": \"{start_date} {end_date}\".format(start_date=start_date.strftime('%Y-%m-%d'), end_date=end_date.strftime('%Y-%m-%d'))\n",
    "}\n",
    "\n",
    "search = GoogleSearch(params)\n",
    "results = search.get_dict()\n",
    "\n",
    "json_object = json.dumps(results)\n",
    "with open(saving_path, 'w') as f:\n",
    "  f.write(json_object)"
   ]
  }
 ],
 "metadata": {
  "kernelspec": {
   "display_name": "ada",
   "language": "python",
   "name": "python3"
  },
  "language_info": {
   "codemirror_mode": {
    "name": "ipython",
    "version": 3
   },
   "file_extension": ".py",
   "mimetype": "text/x-python",
   "name": "python",
   "nbconvert_exporter": "python",
   "pygments_lexer": "ipython3",
   "version": "3.11.2"
  }
 },
 "nbformat": 4,
 "nbformat_minor": 2
}
