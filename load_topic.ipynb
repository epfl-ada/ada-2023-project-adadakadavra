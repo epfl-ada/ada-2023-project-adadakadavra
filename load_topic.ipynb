{
 "cells": [
  {
   "cell_type": "code",
   "execution_count": 11,
   "metadata": {},
   "outputs": [],
   "source": [
    "import os\n",
    "from datetime import datetime\n",
    "from serpapi import GoogleSearch\n",
    "import json"
   ]
  },
  {
   "cell_type": "markdown",
   "metadata": {},
   "source": [
    "## Download Json dataset"
   ]
  },
  {
   "cell_type": "code",
   "execution_count": 12,
   "metadata": {},
   "outputs": [],
   "source": [
    "filename = 'swineflu'\n",
    "pagename = 'Swine influenza'\n",
    "start_date = datetime(year=2020, month=1, day=1)\n",
    "end_date = datetime(year=2021, month=1, day=1)"
   ]
  },
  {
   "cell_type": "markdown",
   "metadata": {},
   "source": [
    "#### From Wikipedia"
   ]
  },
  {
   "cell_type": "code",
   "execution_count": 15,
   "metadata": {},
   "outputs": [
    {
     "name": "stderr",
     "output_type": "stream",
     "text": [
      "swineflu/swineflu_wikipedia.json: No such file or directory\n"
     ]
    },
    {
     "data": {
      "text/plain": [
       "256"
      ]
     },
     "execution_count": 15,
     "metadata": {},
     "output_type": "execute_result"
    }
   ],
   "source": [
    "saving_path = 'extra_material/{filename}/{filename}_wikipedia.json'.format(filename=filename)\n",
    "\n",
    "command = 'wget -O {saving_path} \\'https://wikimedia.org/api/rest_v1/metrics/pageviews/per-article/en.wikipedia/all-access/user/{page_name}/daily/{start_date}/{end_date}\\''\\\n",
    "            .format(saving_path=saving_path, page_name=pagename, start_date=start_date.strftime('%Y%m%d%H'), end_date=end_date.strftime('%Y%m%d%H'))\n",
    "\n",
    "os.system(command)"
   ]
  },
  {
   "cell_type": "markdown",
   "metadata": {},
   "source": [
    "#### From Google Trends"
   ]
  },
  {
   "cell_type": "code",
   "execution_count": 14,
   "metadata": {},
   "outputs": [
    {
     "ename": "FileNotFoundError",
     "evalue": "[Errno 2] No such file or directory: './swineflu/swineflu_googletrends.json'",
     "output_type": "error",
     "traceback": [
      "\u001b[0;31m---------------------------------------------------------------------------\u001b[0m",
      "\u001b[0;31mFileNotFoundError\u001b[0m                         Traceback (most recent call last)",
      "\u001b[1;32m/home/pietromello/HardDisk/EPFL/ADA/ada-2023-project-adadakadavra/load_topic.ipynb Cell 7\u001b[0m line \u001b[0;36m1\n\u001b[1;32m     <a href='vscode-notebook-cell:/home/pietromello/HardDisk/EPFL/ADA/ada-2023-project-adadakadavra/load_topic.ipynb#W1sZmlsZQ%3D%3D?line=12'>13</a>\u001b[0m results \u001b[39m=\u001b[39m search\u001b[39m.\u001b[39mget_dict()\n\u001b[1;32m     <a href='vscode-notebook-cell:/home/pietromello/HardDisk/EPFL/ADA/ada-2023-project-adadakadavra/load_topic.ipynb#W1sZmlsZQ%3D%3D?line=14'>15</a>\u001b[0m json_object \u001b[39m=\u001b[39m json\u001b[39m.\u001b[39mdumps(results)\n\u001b[0;32m---> <a href='vscode-notebook-cell:/home/pietromello/HardDisk/EPFL/ADA/ada-2023-project-adadakadavra/load_topic.ipynb#W1sZmlsZQ%3D%3D?line=15'>16</a>\u001b[0m \u001b[39mwith\u001b[39;00m \u001b[39mopen\u001b[39;49m(saving_path, \u001b[39m'\u001b[39;49m\u001b[39mw\u001b[39;49m\u001b[39m'\u001b[39;49m) \u001b[39mas\u001b[39;00m f:\n\u001b[1;32m     <a href='vscode-notebook-cell:/home/pietromello/HardDisk/EPFL/ADA/ada-2023-project-adadakadavra/load_topic.ipynb#W1sZmlsZQ%3D%3D?line=16'>17</a>\u001b[0m   f\u001b[39m.\u001b[39mwrite(json_object)\n",
      "File \u001b[0;32m~/anaconda3/envs/ada/lib/python3.9/site-packages/IPython/core/interactiveshell.py:286\u001b[0m, in \u001b[0;36m_modified_open\u001b[0;34m(file, *args, **kwargs)\u001b[0m\n\u001b[1;32m    279\u001b[0m \u001b[39mif\u001b[39;00m file \u001b[39min\u001b[39;00m {\u001b[39m0\u001b[39m, \u001b[39m1\u001b[39m, \u001b[39m2\u001b[39m}:\n\u001b[1;32m    280\u001b[0m     \u001b[39mraise\u001b[39;00m \u001b[39mValueError\u001b[39;00m(\n\u001b[1;32m    281\u001b[0m         \u001b[39mf\u001b[39m\u001b[39m\"\u001b[39m\u001b[39mIPython won\u001b[39m\u001b[39m'\u001b[39m\u001b[39mt let you open fd=\u001b[39m\u001b[39m{\u001b[39;00mfile\u001b[39m}\u001b[39;00m\u001b[39m by default \u001b[39m\u001b[39m\"\u001b[39m\n\u001b[1;32m    282\u001b[0m         \u001b[39m\"\u001b[39m\u001b[39mas it is likely to crash IPython. If you know what you are doing, \u001b[39m\u001b[39m\"\u001b[39m\n\u001b[1;32m    283\u001b[0m         \u001b[39m\"\u001b[39m\u001b[39myou can use builtins\u001b[39m\u001b[39m'\u001b[39m\u001b[39m open.\u001b[39m\u001b[39m\"\u001b[39m\n\u001b[1;32m    284\u001b[0m     )\n\u001b[0;32m--> 286\u001b[0m \u001b[39mreturn\u001b[39;00m io_open(file, \u001b[39m*\u001b[39;49margs, \u001b[39m*\u001b[39;49m\u001b[39m*\u001b[39;49mkwargs)\n",
      "\u001b[0;31mFileNotFoundError\u001b[0m: [Errno 2] No such file or directory: './swineflu/swineflu_googletrends.json'"
     ]
    }
   ],
   "source": [
    "# to install: pip install google-search-results\n",
    "saving_path = 'extra_material/{filename}/{filename}_googletrends.json'.format(filename=filename)\n",
    "\n",
    "params = {\n",
    "  \"engine\": \"google_trends\",\n",
    "  \"q\": pagename,\n",
    "  \"data_type\": \"TIMESERIES\",\n",
    "  \"api_key\": \"dd2b1a64c96847db4dc6d2d2146d7eed59a48a6657355d7a5232f91b1f463f25\",\n",
    "  \"date\": \"{start_date} {end_date}\".format(start_date=start_date.strftime('%Y-%m-%d'), end_date=end_date.strftime('%Y-%m-%d'))\n",
    "}\n",
    "\n",
    "search = GoogleSearch(params)\n",
    "results = search.get_dict()\n",
    "\n",
    "json_object = json.dumps(results)\n",
    "with open(saving_path, 'w') as f:\n",
    "  f.write(json_object)"
   ]
  }
 ],
 "metadata": {
  "kernelspec": {
   "display_name": "ada",
   "language": "python",
   "name": "python3"
  },
  "language_info": {
   "codemirror_mode": {
    "name": "ipython",
    "version": 3
   },
   "file_extension": ".py",
   "mimetype": "text/x-python",
   "name": "python",
   "nbconvert_exporter": "python",
   "pygments_lexer": "ipython3",
   "version": "3.9.18"
  }
 },
 "nbformat": 4,
 "nbformat_minor": 2
}
